{
 "cells": [
  {
   "cell_type": "code",
   "execution_count": 1,
   "metadata": {},
   "outputs": [],
   "source": [
    "from vizwiz_api.vizwiz import VizWiz\n",
    "import spacy\n",
    "import numpy as np\n",
    "import json\n",
    "\n",
    "# nlp = spacy.load(\"en_core_web_sm\")"
   ]
  },
  {
   "cell_type": "code",
   "execution_count": 12,
   "metadata": {},
   "outputs": [],
   "source": [
    "annFile = './annotations/val.json'\n",
    "output = './annotations/val_split.json'\n",
    "\n",
    "# results_base = './results/results_base.json'\n",
    "# results_gt = './results/results_gt.json'"
   ]
  },
  {
   "cell_type": "code",
   "execution_count": 13,
   "metadata": {},
   "outputs": [
    {
     "name": "stdout",
     "output_type": "stream",
     "text": [
      "loading annotations into memory...\n",
      "Done (t=0.24s)\n",
      "creating index...\n",
      "index created! imgs = 7750, anns = 33145\n"
     ]
    }
   ],
   "source": [
    "vizwiz = VizWiz(annFile, ignore_rejected=True, ignore_precanned=True)"
   ]
  },
  {
   "cell_type": "code",
   "execution_count": 7,
   "metadata": {},
   "outputs": [
    {
     "name": "stdout",
     "output_type": "stream",
     "text": [
      "a pack of black and white pokemon trading cards\n",
      "A package of black and white pokemon trading cards\n",
      "Someone is holding a new package of Pokemon Cards that says Black & White with some type of a horse or zebra looking character on the front.\n",
      "A few hands are holding a Pokemon game cartridge.\n",
      "A person is holding a video game in their hand.\n"
     ]
    }
   ],
   "source": [
    "img_id = 4961\n",
    "for ann in vizwiz.dataset['annotations']:\n",
    "    if ann['image_id'] == img_id:\n",
    "        print(ann['caption'])"
   ]
  },
  {
   "cell_type": "code",
   "execution_count": 14,
   "metadata": {},
   "outputs": [],
   "source": [
    "anns_split = []\n",
    "anns_base = []\n",
    "anns_gt = []\n",
    "images = []\n",
    "\n",
    "counts = {}\n",
    "# keys = [' in front of ', ' on top of ', ' above ', ' accross ', ' behind ', ' next to ', ' on ']\n",
    "keys = [' in the middle ', ' to the left ', ' to the right ', ' in front of ', ' on top of ', ' in the distance ', ' in the foreground ', \\\n",
    "        ' in the background ', ' adjacent to ', ' next to ', ' over ', ' above ', ' below ', ' under ', ' further ', ' beyond ', ' nearby ', \\\n",
    "        ' between ', ' alongside ', ' among ', ' beside ', ' beneath ', ' behind ', ' across ', ' on ']"
   ]
  },
  {
   "cell_type": "code",
   "execution_count": 15,
   "metadata": {},
   "outputs": [
    {
     "data": {
      "text/plain": [
       "25"
      ]
     },
     "execution_count": 15,
     "metadata": {},
     "output_type": "execute_result"
    }
   ],
   "source": [
    "len(keys)"
   ]
  },
  {
   "cell_type": "code",
   "execution_count": 16,
   "metadata": {},
   "outputs": [
    {
     "name": "stdout",
     "output_type": "stream",
     "text": [
      "finished!\n"
     ]
    }
   ],
   "source": [
    "for ann in vizwiz.dataset['annotations']:\n",
    "    caption = ann['caption'].lower()\n",
    "    ann['split'] = None\n",
    "    id = ann['id']\n",
    "    image_id = ann['image_id']\n",
    "    \n",
    "    for key in keys:\n",
    "        if key in caption:\n",
    "            cap_split = caption.split(key,1)\n",
    "            if len(cap_split[1].split()) >=3 and len(cap_split[0].split()) >=3:\n",
    "                counts[key] = counts.get(key,0) + 1\n",
    "                ann['split'] = cap_split\n",
    "                ann['key'] = key\n",
    "                anns_base.append({\"image_id\": id, \"caption\": ann['split'][0] + ' ' + ann['split'][1]})\n",
    "                break\n",
    "    \n",
    "    if not ann['split']:\n",
    "        ann['split'] = [caption,'']\n",
    "        ann['key'] = None\n",
    "        anns_base.append({\"image_id\": id, \"caption\": caption})\n",
    "        \n",
    "    anns_gt.append({\"image_id\": id, \"caption\": caption})\n",
    "    images.append({\"file_name\": None, \"id\": id})\n",
    "    \n",
    "    ann['image_id'] = id # ann['id']\n",
    "    ann['image_id_true'] = image_id\n",
    "                \n",
    "    anns_split.append(ann)\n",
    "print('finished!')"
   ]
  },
  {
   "cell_type": "code",
   "execution_count": 17,
   "metadata": {},
   "outputs": [
    {
     "data": {
      "text/plain": [
       "9865"
      ]
     },
     "execution_count": 17,
     "metadata": {},
     "output_type": "execute_result"
    }
   ],
   "source": [
    "sum(counts.values())"
   ]
  },
  {
   "cell_type": "code",
   "execution_count": 7,
   "metadata": {},
   "outputs": [
    {
     "name": "stdout",
     "output_type": "stream",
     "text": [
      "wrote to ./annotations/train_split.json\n"
     ]
    }
   ],
   "source": [
    "json.dump({'annotations':anns_split, 'images':images}, open(output,'w'))\n",
    "# json.dump({'annotations':anns_split}, open(output,'w'))\n",
    "print('wrote to ' + output)"
   ]
  },
  {
   "cell_type": "raw",
   "metadata": {},
   "source": [
    "json.dump(anns_base, open(results_base,'w'))\n",
    "print('wrote to ' + results_base)"
   ]
  },
  {
   "cell_type": "raw",
   "metadata": {},
   "source": [
    "json.dump(anns_gt, open(results_gt,'w'))\n",
    "print('wrote to ' + results_gt)"
   ]
  },
  {
   "cell_type": "code",
   "execution_count": null,
   "metadata": {},
   "outputs": [],
   "source": []
  }
 ],
 "metadata": {
  "kernelspec": {
   "display_name": "py3",
   "language": "python",
   "name": "py3"
  },
  "language_info": {
   "codemirror_mode": {
    "name": "ipython",
    "version": 3
   },
   "file_extension": ".py",
   "mimetype": "text/x-python",
   "name": "python",
   "nbconvert_exporter": "python",
   "pygments_lexer": "ipython3",
   "version": "3.6.10"
  }
 },
 "nbformat": 4,
 "nbformat_minor": 4
}
